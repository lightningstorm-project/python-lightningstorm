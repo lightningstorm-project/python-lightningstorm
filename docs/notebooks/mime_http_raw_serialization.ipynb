{
 "cells": [
  {
   "cell_type": "code",
   "execution_count": 1,
   "metadata": {},
   "outputs": [
    {
     "data": {
      "text/plain": [
       "(8314,\n",
       " b'HTTP/1.1 200 OK\\r\\nDate: Mon, 23 Mar 2020 02:05:55 GMT\\r\\nContent-Type: image/png\\r\\nContent-Length: 8090\\r\\nConnection: keep-alive\\r\\nServer: gunicorn/19.9.0\\r\\nAccess-Control-Allow-Origin: *\\r\\nAccess-Control-Allow-Credentials: true\\r\\n\\r\\n\\x89PNG\\r\\n\\x1a\\n\\x00\\x00\\x00\\rIHDR\\x00\\x00\\x00d\\x00\\x00\\x00d\\x08\\x02\\x00\\x00\\x00\\xff\\x80\\x02\\x03\\x00\\x00\\x1faIDATx\\x9c\\xdd}wXS\\xd9\\xd6\\xfeJ#\\xa1\\x17\\xc1 \\x02\\xa1\\x08\\xc1J\\x19\\x11E\\x10\\x1c\\x11\\x14\\x10\\xf8tl(\\xea\\xd8',\n",
       " b'\\x00\\x00IEND\\xaeB`\\x82')"
      ]
     },
     "execution_count": 1,
     "metadata": {},
     "output_type": "execute_result"
    }
   ],
   "source": [
    "import socket\n",
    "from time import sleep\n",
    "\n",
    "PORT = 80\n",
    "HOST = 'httpbin.org'\n",
    "PATH = '/image/png'\n",
    "CRLF = b'\\r\\n'\n",
    "HTTP_PATH = f'GET {PATH} HTTP/1.1'.encode('ascii') + CRLF\n",
    "HTTP_HOST = f'Host: {HOST}'.encode('ascii') + CRLF\n",
    "\n",
    "with socket.socket(socket.AF_INET, socket.SOCK_STREAM) as s:\n",
    "    s.connect((HOST, PORT))\n",
    "    s.sendall(HTTP_PATH)\n",
    "    s.sendall(HTTP_HOST)\n",
    "    s.sendall(CRLF)\n",
    "    data = s.recv(1024)\n",
    "    sleep(1)\n",
    "    data += s.recv(9999)\n",
    "\n",
    "len(data), data[:300], data[-10:]"
   ]
  },
  {
   "cell_type": "code",
   "execution_count": 2,
   "metadata": {},
   "outputs": [
    {
     "name": "stdout",
     "output_type": "stream",
     "text": [
      "HTTP/1.1 200 OK\r\n",
      "Date: Mon, 23 Mar 2020 02:05:55 GMT\r\n",
      "Content-Type: image/png\r\n",
      "Content-Length: 8090\r\n",
      "Connection: keep-alive\r\n",
      "Server: gunicorn/19.9.0\r\n",
      "Access-Control-Allow-Origin: *\r\n",
      "Access-Control-Allow-Credentials: true\r\n",
      "\r\n",
      "\\x89PNG\r\n",
      "\u001a\n",
      "\u0000\u0000\u0000\r",
      "IHDR\u0000\u0000\u0000d\u0000\u0000\u0000d\b\u0002\u0000\u0000\u0000\\xff\\x80\u0002\u0003\u0000\u0000\u001faIDATx\\x9c\\xdd}wXS\\xd9\\xd6\\xfeJ\n"
     ]
    }
   ],
   "source": [
    "print(data.decode('ascii', errors='backslashreplace')[:300])"
   ]
  },
  {
   "cell_type": "code",
   "execution_count": 3,
   "metadata": {},
   "outputs": [
    {
     "name": "stdout",
     "output_type": "stream",
     "text": [
      "Content-Type: image/png\r\n",
      "Content-Length: 1225\r\n",
      "\r\n",
      "\\xff\\xd8\\xff\\xe0\u0000\u0010JFIF\u0000\u0001\u0001\u0001\u0000H\u0000H\u0000\u0000\\xff\\xdb\u0000C\u0000\r",
      "\t\n",
      "\u000b",
      "\n",
      "\b\r",
      "\u000b",
      "\n",
      "\u000b",
      "\u000e\u000e\r",
      "\u000f\u0013 \u0015\u0013\u0012\u0012\u0013'\u001c",
      "\u001e",
      "\u0017 .)10.)-,3:J>36F7,-@WAFLNRSR2>ZaZP`JQRO\\xff\\xdb\u0000C\u0001\u000e\u000e\u000e\u0013\u0011\u0013&\u0015\u0015&O5-5OOOOOOOOOOOOOOOOOOOOOOOOOOOOOOOOOOOOOOOOOOOOOOOOOO\\xff\\xc0\u0000\u0011\b\u0000-\u0000P\u0003\u0001\"\u0000\u0002\u0011\u0001\u0003\u0011\u0001\\xff\\xc4\u0000\u001f\u0000\u0000\u0001\u0005\u0001\u0001\u0001\u0001\u0001\u0001\u0000\u0000\u0000\u0000\u0000\u0000\u0000\u0000\u0001\u0002\u0003\u0004\u0005\u0006\u0007\b\t\n",
      "\u000b",
      "\\xff\\\n"
     ]
    }
   ],
   "source": [
    "with open('../../tests/assets/cat.jpg', 'rb') as fd:\n",
    "    cat_photo_bytes = fd.read()\n",
    "\n",
    "CONTENT_LENGHT = str(len(cat_photo_bytes)).encode('ascii')\n",
    "\n",
    "CRLF = b'\\r\\n'\n",
    "HTTP_INIT = b'HTTP/1.1 200 OK' + CRLF\n",
    "HTTP_HEADERS = b'Content-Type: image/png' + CRLF + b'Content-Length: ' + CONTENT_LENGHT + CRLF\n",
    "HTTP_BODY = cat_photo_bytes\n",
    "HTTP_MESSAGE = HTTP_HEADERS + CRLF + HTTP_BODY\n",
    "\n",
    "HTTP_RESPONSE = HTTP_INIT + HTTP_MESSAGE\n",
    "\n",
    "print(HTTP_MESSAGE.decode('ascii', errors='backslashreplace')[:300])"
   ]
  },
  {
   "cell_type": "code",
   "execution_count": 4,
   "metadata": {},
   "outputs": [
    {
     "data": {
      "text/plain": [
       "<email.message.Message at 0x10d955490>"
      ]
     },
     "execution_count": 4,
     "metadata": {},
     "output_type": "execute_result"
    }
   ],
   "source": [
    "import email\n",
    "\n",
    "msg = email.message_from_bytes(HTTP_MESSAGE)\n",
    "\n",
    "msg"
   ]
  },
  {
   "cell_type": "code",
   "execution_count": 5,
   "metadata": {},
   "outputs": [
    {
     "data": {
      "text/plain": [
       "[('Content-Type', 'image/png'), ('Content-Length', '1225')]"
      ]
     },
     "execution_count": 5,
     "metadata": {},
     "output_type": "execute_result"
    }
   ],
   "source": [
    "msg.items()"
   ]
  },
  {
   "cell_type": "code",
   "execution_count": 6,
   "metadata": {},
   "outputs": [
    {
     "data": {
      "text/plain": [
       "(1225, bytes)"
      ]
     },
     "execution_count": 6,
     "metadata": {},
     "output_type": "execute_result"
    }
   ],
   "source": [
    "msg_payload = msg.get_payload(decode=True)\n",
    "\n",
    "len(msg_payload), type(msg_payload)"
   ]
  },
  {
   "cell_type": "code",
   "execution_count": 7,
   "metadata": {},
   "outputs": [
    {
     "data": {
      "text/plain": [
       "True"
      ]
     },
     "execution_count": 7,
     "metadata": {},
     "output_type": "execute_result"
    }
   ],
   "source": [
    "msg_payload == cat_photo_bytes"
   ]
  },
  {
   "cell_type": "code",
   "execution_count": 8,
   "metadata": {},
   "outputs": [],
   "source": [
    "# import socket\n",
    "\n",
    "# with socket.socket(socket.AF_INET, socket.SOCK_STREAM) as s:\n",
    "#     s.bind(('127.0.0.1', 8000))\n",
    "#     s.listen(1)\n",
    "#     conn, addr = s.accept()\n",
    "#     print(conn, addr)\n",
    "#     with conn:\n",
    "#         print('Connected by', addr)\n",
    "#         while True:\n",
    "#             request_data = conn.recv(1024)\n",
    "#             if not request_data: break\n",
    "#             conn.sendall(HTTP_RESPONSE)\n",
    "#             break"
   ]
  }
 ],
 "metadata": {
  "hide_input": false,
  "kernelspec": {
   "display_name": "Python 3",
   "language": "python",
   "name": "python3"
  },
  "language_info": {
   "codemirror_mode": {
    "name": "ipython",
    "version": 3
   },
   "file_extension": ".py",
   "mimetype": "text/x-python",
   "name": "python",
   "nbconvert_exporter": "python",
   "pygments_lexer": "ipython3",
   "version": "3.8.2"
  }
 },
 "nbformat": 4,
 "nbformat_minor": 4
}
