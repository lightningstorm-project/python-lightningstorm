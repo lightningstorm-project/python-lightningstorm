{
 "cells": [
  {
   "cell_type": "code",
   "execution_count": 1,
   "metadata": {},
   "outputs": [],
   "source": [
    "from email.message import EmailMessage, MIMEPart\n",
    "from  email.contentmanager import raw_data_manager\n",
    "import email\n",
    "import email.policy"
   ]
  },
  {
   "cell_type": "code",
   "execution_count": 2,
   "metadata": {},
   "outputs": [
    {
     "data": {
      "text/plain": [
       "(1225, bytes)"
      ]
     },
     "execution_count": 2,
     "metadata": {},
     "output_type": "execute_result"
    }
   ],
   "source": [
    "with open('../../tests/assets/cat.jpg', 'rb') as fd:\n",
    "    cat_photo_bytes = fd.read()\n",
    "\n",
    "len(cat_photo_bytes), type(cat_photo_bytes)"
   ]
  },
  {
   "cell_type": "code",
   "execution_count": 12,
   "metadata": {},
   "outputs": [
    {
     "name": "stdout",
     "output_type": "stream",
     "text": [
      "Content-Type: multipart/mixed; boundary=\"===============3112921177677608220==\"\n",
      "\n",
      "--===============3112921177677608220==\n",
      "Content-Type: application/octet-stream\n",
      "Content-Transfer-Encoding: binary\n",
      "MIME-Version: 1.0\n",
      "Content-Disposition: attachment\n",
      "\n",
      "����\u0000\u0010JFIF\u0000\u0001\u0001\u0001\u0000H\u0000H\u0000\u0000��\u0000C\u0000\n",
      "\t\n",
      "\u000b",
      "\n",
      "\b\n",
      "\u000b",
      "\n",
      "\u000b",
      "\u000e\u000e\n",
      "\u000f\u0013 \u0015\u0013\u0012\u0012\u0013'\u001c",
      "\u001e",
      "\u0017 .)10.)-,3:J>36F7,-@WAFLNRSR2>ZaZP`JQRO��\u0000C\u0001\u000e\u000e\u000e\u0013\u0011\u0013&\u0015\u0015&O5-5OOOOOOOOOOOOOOOOOOOOOOOOOOOOOOOOOOOOOOOOOOOOOOOOOO��\u0000\u0011\b\u0000-\u0000P\u0003\u0001\"\u0000\u0002\u0011\u0001\u0003\u0011\u0001��\u0000\u001f\u0000\u0000\u0001\u0005\u0001\u0001\u0001\u0001\u0001\u0001\u0000\u0000\u0000\u0000\u0000\u0000\u0000\u0000\u0001\u0002\u0003\u0004\u0005\u0006\u0007\b\t\n",
      "\u000b",
      "��\u0000�\u0010\u0000\u0002\u0001\u0003\u0003\u0002\u0004\u0003\u0005\u0005\u0004\u0004\u0000\u0000\u0001}\u0001\u0002\u0003\u0000\u0004\u0011\u0005\u0012!1A\u0006\u0013Qa\u0007\"q\u00142���\b#B��\u0015R��$3br�\t\n",
      "\u0016\u0017\u0018\u0019\u001a%&'()*456789:CDEFGHIJSTUVWXYZcdefghijstuvwxyz���������������������������������������������������������������������������\u0000\u001f\u0001\u0000\u0003\u0001\u0001\u0001\u0001\u0001\u0001\u0001\u0001\u0001\u0000\u0000\u0000\u0000\u0000\u0000\u0001\u0002\u0003\u0004\u0005\u0006\u0007\b\t\n",
      "\u000b",
      "��\u0000�\u0011\u0000\u0002\u0001\u0002\u0004\u0004\u0003\u0004\u0007\u0005\u0004\u0004\u0000\u0001\u0002w\u0000\u0001\u0002\u0003\u0011\u0004\u0005!1\u0006\u0012AQ\u0007aq\u0013\"2�\b\u0014B����\t#3R�\u0015br�\n",
      "\u0016$4�%�\u0017\u0018\u0019\u001a&'()*56789:CDEFGHIJSTUVWXYZcdefghijstuvwxyz��������������������������������������������������������������������������\u0000\f",
      "\u0003\u0001\u0000\u0002\u0011\u0003\u0011\u0000?\u0000�[`G\u0003?Zz�\u0012~n���\u00120\u0007\u001f�j�\u0015���e��\u0018=#�no�\u001f�E�`]��@]\u0010\u0013�=*XbSl��gh\u0019gTm��X�X]��$�\bv���]���e�M\n",
      "F6\u0015���S��j�t��mt9(�I�lAYz\u001e",
      "�}�g19��\u001e",
      "��~�M\u0015�}��V_N���8������?3\u00058?���q�W(������?������c�hA%]O~\b5� �GNj��h�Z,��K!�?���\u0005h� ��\u0013A\u0018�U��1Z`�\u0000h\u0018��]�&\u0012\u0002�\u0003�Q��\u0000�6��A(�S�?\n",
      "�������\u0006����\u0003�i�X�����\b��:��\n",
      "\b��\u0007���M��\u0000v\u001d",
      "�\f",
      "r<��Z0r� pT�v�NR^$��L��n\n",
      "�@�\u0000Z|P\u0000��{�VB\f",
      "c\u0014��������\u001d",
      "�\u001ffe���:���+zKA��SZ�������\u000ei��I\u0006�+\"�h������K�Z{���\u0002\u0007M��~�nI\t&����-%x.�YH���f����%fP\u0019�H���d�����V\u0007�\t�pA\f",
      "A\u001f�\u0019��|�\u0001���3��1�\u0018\u0003�I�(\u0017�p\u000e��U����=MA#g��@\u0019���\u001c",
      "f����U��EYN��\t�\u001d",
      "\u000588<g��I�\u0005\u0003���\u0000^�x��x$W&Q��d\u001f�����B���j���P\u00067u5\u001a�x�0F}�RD6����g�hD\b��,j\u000f�O<t�H\u0001����\u001c",
      "�i����c�\u0000��\n",
      "--===============3112921177677608220==--\n",
      "\n"
     ]
    }
   ],
   "source": [
    "mime = EmailMessage()\n",
    "mime.add_attachment(cat_photo_bytes, maintype='application', subtype='octet-stream', cte='binary')\n",
    "print(mime)"
   ]
  },
  {
   "cell_type": "code",
   "execution_count": 4,
   "metadata": {},
   "outputs": [
    {
     "name": "stdout",
     "output_type": "stream",
     "text": [
      "UUID: e96e58c7-0df4-4bb0-9b28-c90e5de940bb\r\n",
      "Content-Type: multipart/mixed; boundary=\"===============6005368186818667177==\"\r\n",
      "\r\n",
      "--===============6005368186818667177==\r\n",
      "Content-Type: multipart/related; boundary=\"===============2774774420545046962==\"\r\n",
      "\r\n",
      "--===============2774774420545046962==\r\n",
      "\r\n",
      "--===============2774774420545046962==--\r\n",
      "\r\n",
      "--===============6005368186818667177==\r\n",
      "Content-Type: application/octet-stream\r\n",
      "Content-Transfer-Encoding: 8bit\r\n",
      "MIME-Version: 1.0\r\n",
      "Content-Disposition: attachment\r\n",
      "\r\n",
      "����\u0000\u0010JFIF\u0000\u0001\u0001\u0001\u0000H\u0000H\u0000\u0000��\u0000C\u0000\r\n",
      "\t\r\n",
      "\u000b",
      "\r\n",
      "\b\r\n",
      "\u000b",
      "\r\n",
      "\u000b",
      "\u000e\u000e\r\n",
      "\u000f\u0013 \u0015\u0013\u0012\u0012\u0013'\u001c",
      "\u001e",
      "\u0017 .)10.)-,3:J>36F7,-@WAFLNRSR2>ZaZP`JQRO��\u0000C\u0001\u000e\u000e\u000e\u0013\u0011\u0013&\u0015\u0015&O5-5OOOOOOOOOOOOOOOOOOOOOOOOOOOOOOOOOOOOOOOOOOOOOOOOOO��\u0000\u0011\b\u0000-\u0000P\u0003\u0001\"\u0000\u0002\u0011\u0001\u0003\u0011\u0001��\u0000\u001f\u0000\u0000\u0001\u0005\u0001\u0001\u0001\u0001\u0001\u0001\u0000\u0000\u0000\u0000\u0000\u0000\u0000\u0000\u0001\u0002\u0003\u0004\u0005\u0006\u0007\b\t\r\n",
      "\u000b",
      "��\u0000�\u0010\u0000\u0002\u0001\u0003\u0003\u0002\u0004\u0003\u0005\u0005\u0004\u0004\u0000\u0000\u0001}\u0001\u0002\u0003\u0000\u0004\u0011\u0005\u0012!1A\u0006\u0013Qa\u0007\"q\u00142���\b#B��\u0015R��$3br�\t\r\n",
      "\u0016\u0017\u0018\u0019\u001a%&'()*456789:CDEFGHIJSTUVWXYZcdefghijstuvwxyz���������������������������������������������������������������������������\u0000\u001f\u0001\u0000\u0003\u0001\u0001\u0001\u0001\u0001\u0001\u0001\u0001\u0001\u0000\u0000\u0000\u0000\u0000\u0000\u0001\u0002\u0003\u0004\u0005\u0006\u0007\b\t\r\n",
      "\u000b",
      "��\u0000�\u0011\u0000\u0002\u0001\u0002\u0004\u0004\u0003\u0004\u0007\u0005\u0004\u0004\u0000\u0001\u0002w\u0000\u0001\u0002\u0003\u0011\u0004\u0005!1\u0006\u0012AQ\u0007aq\u0013\"2�\b\u0014B����\t#3R�\u0015br�\r\n",
      "\u0016$4�%�\u0017\u0018\u0019\u001a&'()*56789:CDEFGHIJSTUVWXYZcdefghijstuvwxyz��������������������������������������������������������������������������\u0000\f",
      "\u0003\u0001\u0000\u0002\u0011\u0003\u0011\u0000?\u0000�[`G\u0003?Zz�\u0012~n���\u00120\u0007\u001f�j�\u0015���e��\u0018=#�no�\u001f�E�`]��@]\u0010\u0013�=*XbSl��gh\u0019gTm��X�X]��$�\bv���]���e�M\r\n",
      "F6\u0015���S��j�t��mt9(�I�lAYz\u001e",
      "�}�g19��\u001e",
      "��~�M\u0015�}��V_N���8������?3\u00058?���q�W(������?������c�hA%]O~\b5� �GNj��h�Z,��K!�?���\u0005h� ��\u0013A\u0018�U��1Z`�\u0000h\u0018��]�&\u0012\u0002�\u0003�Q��\u0000�6��A(�S�?\r\n",
      "�������\u0006����\u0003�i�X�����\b��:��\r\n",
      "\b��\u0007���M��\u0000v\u001d",
      "�\f",
      "r<��Z0r� pT�v�NR^$��L��n\r\n",
      "�@�\u0000Z|P\u0000��{�VB\f",
      "c\u0014��������\u001d",
      "�\u001ffe���:���+zKA��SZ�������\u000ei��I\u0006�+\"�h������K�Z{���\u0002\u0007M��~�nI\t&����-%x.�YH���f����%fP\u0019�H���d�����V\u0007�\t�pA\f",
      "A\u001f�\u0019��|�\u0001���3��1�\u0018\u0003�I�(\u0017�p\u000e��U����=MA#g��@\u0019���\u001c",
      "f����U��EYN��\t�\u001d",
      "\u000588<g��I�\u0005\u0003���\u0000^�x��x$W&Q��d\u001f�����B���j���P\u00067u5\u001a�x�0F}�RD6����g�hD\b��,j\u000f�O<t�H\u0001����\u001c",
      "�i����c�\u0000��\r\n",
      "--===============6005368186818667177==--\r\n",
      "\n"
     ]
    }
   ],
   "source": [
    "policy = email.policy.HTTP.clone(cte_type='8bit')\n",
    "\n",
    "CTE = '8bit'\n",
    "\n",
    "msg = EmailMessage(policy)\n",
    "\n",
    "msg.make_related()\n",
    "\n",
    "\n",
    "msg.add_header('UUID', 'e96e58c7-0df4-4bb0-9b28-c90e5de940bb')\n",
    "\n",
    "#raw_data_manager.set_content(msg, cat_photo_bytes, maintype='application', subtype='octet-stream', cte='binary')\n",
    "msg.make_mixed()\n",
    "msg.add_attachment(cat_photo_bytes, maintype='application', subtype='octet-stream', cte=CTE)\n",
    "\n",
    "print(msg)"
   ]
  },
  {
   "cell_type": "code",
   "execution_count": 20,
   "metadata": {},
   "outputs": [
    {
     "ename": "AttributeError",
     "evalue": "'Message' object has no attribute 'iter_attachments'",
     "output_type": "error",
     "traceback": [
      "\u001b[0;31m---------------------------------------------------------------------------\u001b[0m",
      "\u001b[0;31mAttributeError\u001b[0m                            Traceback (most recent call last)",
      "\u001b[0;32m<ipython-input-20-1d47fa50545a>\u001b[0m in \u001b[0;36m<module>\u001b[0;34m\u001b[0m\n\u001b[1;32m      1\u001b[0m \u001b[0mparsed_msg\u001b[0m \u001b[0;34m=\u001b[0m \u001b[0memail\u001b[0m\u001b[0;34m.\u001b[0m\u001b[0mmessage_from_bytes\u001b[0m\u001b[0;34m(\u001b[0m\u001b[0mmime\u001b[0m\u001b[0;34m.\u001b[0m\u001b[0mas_bytes\u001b[0m\u001b[0;34m(\u001b[0m\u001b[0;34m)\u001b[0m\u001b[0;34m)\u001b[0m\u001b[0;34m\u001b[0m\u001b[0;34m\u001b[0m\u001b[0m\n\u001b[1;32m      2\u001b[0m \u001b[0;34m\u001b[0m\u001b[0m\n\u001b[0;32m----> 3\u001b[0;31m \u001b[0mparts\u001b[0m \u001b[0;34m=\u001b[0m \u001b[0mlist\u001b[0m\u001b[0;34m(\u001b[0m\u001b[0mparsed_msg\u001b[0m\u001b[0;34m.\u001b[0m\u001b[0miter_attachments\u001b[0m\u001b[0;34m(\u001b[0m\u001b[0;34m)\u001b[0m\u001b[0;34m)\u001b[0m\u001b[0;34m\u001b[0m\u001b[0;34m\u001b[0m\u001b[0m\n\u001b[0m\u001b[1;32m      4\u001b[0m \u001b[0;34m\u001b[0m\u001b[0m\n\u001b[1;32m      5\u001b[0m \u001b[0mparsed_cat_photo_bytes\u001b[0m \u001b[0;34m=\u001b[0m \u001b[0mparts\u001b[0m\u001b[0;34m[\u001b[0m\u001b[0;34m-\u001b[0m\u001b[0;36m1\u001b[0m\u001b[0;34m]\u001b[0m\u001b[0;34m.\u001b[0m\u001b[0mget_payload\u001b[0m\u001b[0;34m(\u001b[0m\u001b[0mdecode\u001b[0m\u001b[0;34m=\u001b[0m\u001b[0;32mTrue\u001b[0m\u001b[0;34m)\u001b[0m\u001b[0;34m\u001b[0m\u001b[0;34m\u001b[0m\u001b[0m\n",
      "\u001b[0;31mAttributeError\u001b[0m: 'Message' object has no attribute 'iter_attachments'"
     ]
    }
   ],
   "source": [
    "parsed_msg = email.message_from_bytes(mime.as_bytes())\n",
    "\n",
    "parts = list(parsed_msg.iter_attachments())\n",
    "\n",
    "parsed_cat_photo_bytes = parts[-1].get_payload(decode=True)\n",
    "\n",
    "len(parsed_cat_photo_bytes), type(parsed_cat_photo_bytes)"
   ]
  },
  {
   "cell_type": "code",
   "execution_count": 6,
   "metadata": {},
   "outputs": [
    {
     "data": {
      "text/plain": [
       "False"
      ]
     },
     "execution_count": 6,
     "metadata": {},
     "output_type": "execute_result"
    }
   ],
   "source": [
    "cat_photo_bytes == parsed_cat_photo_bytes"
   ]
  },
  {
   "cell_type": "code",
   "execution_count": 7,
   "metadata": {},
   "outputs": [],
   "source": [
    "with open('/Users/david/Downloads/test_cat.jpg', 'wb') as fd:\n",
    "    fd.write(parsed_cat_photo_bytes)"
   ]
  },
  {
   "cell_type": "code",
   "execution_count": 8,
   "metadata": {},
   "outputs": [
    {
     "data": {
      "text/plain": [
       "(b'\\xff\\xd8\\xff\\xe0\\x00\\x10JFIF\\x00\\x01\\x01\\x01\\x00H\\x00H\\x00\\x00\\xff\\xdb\\x00C\\x00\\r\\t\\n\\x0b\\n',\n",
       " b'\\xff\\xd8\\xff\\xe0\\x00\\x10JFIF\\x00\\x01\\x01\\x01\\x00H\\x00H\\x00\\x00\\xff\\xdb\\x00C\\x00\\r\\n\\t\\r\\n')"
      ]
     },
     "execution_count": 8,
     "metadata": {},
     "output_type": "execute_result"
    }
   ],
   "source": [
    "cat_photo_bytes[0:30], parsed_cat_photo_bytes[0:30]"
   ]
  },
  {
   "cell_type": "code",
   "execution_count": null,
   "metadata": {},
   "outputs": [],
   "source": []
  },
  {
   "cell_type": "code",
   "execution_count": null,
   "metadata": {},
   "outputs": [],
   "source": []
  }
 ],
 "metadata": {
  "hide_input": false,
  "kernelspec": {
   "display_name": "Python 3",
   "language": "python",
   "name": "python3"
  },
  "language_info": {
   "codemirror_mode": {
    "name": "ipython",
    "version": 3
   },
   "file_extension": ".py",
   "mimetype": "text/x-python",
   "name": "python",
   "nbconvert_exporter": "python",
   "pygments_lexer": "ipython3",
   "version": "3.8.2"
  }
 },
 "nbformat": 4,
 "nbformat_minor": 4
}
